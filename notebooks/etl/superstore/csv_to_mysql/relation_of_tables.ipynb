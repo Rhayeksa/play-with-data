{
 "cells": [
  {
   "cell_type": "markdown",
   "metadata": {},
   "source": [
    "# Data Migration CSV To Mysql\n"
   ]
  },
  {
   "cell_type": "markdown",
   "metadata": {},
   "source": [
    "## Configuration\n"
   ]
  },
  {
   "cell_type": "code",
   "execution_count": 7,
   "metadata": {},
   "outputs": [],
   "source": [
    "import os\n",
    "import urllib.parse\n",
    "\n",
    "from dotenv import load_dotenv\n",
    "from sqlalchemy import create_engine, text\n",
    "from sqlalchemy.orm import sessionmaker\n",
    "\n",
    "# Environment Variables\n",
    "load_dotenv(dotenv_path=\"../../../../.env\")\n",
    "MYSQL_DB = os.getenv(\"MYSQL_DB\")\n",
    "MYSQL_DB = os.getenv(\"MYSQL_DB\")\n",
    "MYSQL_DB_USERNAME = os.getenv(\"MYSQL_DB_USERNAME\")\n",
    "MYSQL_DB_PASSWORD = os.getenv(\"MYSQL_DB_PASSWORD\")\n",
    "MYSQL_DB_HOST = os.getenv(\"MYSQL_DB_HOST\")\n",
    "MYSQL_DB_PORT = os.getenv(\"MYSQL_DB_PORT\")\n",
    "\n",
    "# DB Connection\n",
    "URI = f\"mysql+pymysql://{MYSQL_DB_USERNAME}:{urllib.parse.quote_plus(\n",
    "    MYSQL_DB_PASSWORD)}@{MYSQL_DB_HOST}:{MYSQL_DB_PORT}/{MYSQL_DB}\"\n",
    "engine = create_engine(url=URI, pool_pre_ping=True)\n",
    "session = sessionmaker(bind=engine)\n",
    "session = session()"
   ]
  },
  {
   "cell_type": "markdown",
   "metadata": {},
   "source": [
    "## Relation Of Table\n"
   ]
  },
  {
   "cell_type": "markdown",
   "metadata": {},
   "source": [
    "### Customer Address\n"
   ]
  },
  {
   "cell_type": "code",
   "execution_count": 8,
   "metadata": {},
   "outputs": [
    {
     "name": "stdout",
     "output_type": "stream",
     "text": [
      "Successfully related\n"
     ]
    }
   ],
   "source": [
    "TABLE = \"tbl_customer_addr\"\n",
    "FK_CUST_ADDR_CUST = \"fk_cust_addr_cust\"\n",
    "try:\n",
    "    qry = session.execute(text(\n",
    "        f\"\"\"\n",
    "        SELECT TABLE_NAME, INDEX_NAME\n",
    "        FROM INFORMATION_SCHEMA.STATISTICS\n",
    "        WHERE index_schema = '{MYSQL_DB}'\n",
    "        AND TABLE_NAME = '{TABLE}'\n",
    "        AND INDEX_NAME IN('{FK_CUST_ADDR_CUST}')\n",
    "        \"\"\"\n",
    "    )).mappings().fetchone()\n",
    "    if qry:\n",
    "        session.execute(text(\n",
    "            f\"\"\"\n",
    "            ALTER TABLE {MYSQL_DB}.{qry[\"TABLE_NAME\"]}\n",
    "                DROP FOREIGN KEY {qry[\"INDEX_NAME\"]}\n",
    "                , DROP INDEX {qry[\"INDEX_NAME\"]}\n",
    "            \"\"\"\n",
    "        ))\n",
    "\n",
    "    session.execute(text(\n",
    "        f\"\"\"\n",
    "        ALTER TABLE {MYSQL_DB}.{TABLE}\n",
    "            ADD CONSTRAINT {FK_CUST_ADDR_CUST} FOREIGN KEY(customer_id) REFERENCES {MYSQL_DB}.tbl_customer(customer_id)\n",
    "        \"\"\"\n",
    "    ))\n",
    "\n",
    "    session.commit()\n",
    "    session.close()\n",
    "    print(\"Successfully related\")\n",
    "except Exception as e:\n",
    "    print(f\"\\nError msg : {e}\\n\")\n",
    "    session.rollback()\n",
    "    session.close()"
   ]
  },
  {
   "cell_type": "markdown",
   "metadata": {},
   "source": [
    "### Product Price\n"
   ]
  },
  {
   "cell_type": "code",
   "execution_count": 9,
   "metadata": {},
   "outputs": [
    {
     "name": "stdout",
     "output_type": "stream",
     "text": [
      "Successfully related\n"
     ]
    }
   ],
   "source": [
    "TABLE = \"tbl_product_price\"\n",
    "FK_PROD_PRC_PROD = \"fk_prod_prc_prod\"\n",
    "try:\n",
    "    qry = session.execute(text(\n",
    "        f\"\"\"\n",
    "        SELECT TABLE_NAME, INDEX_NAME\n",
    "        FROM INFORMATION_SCHEMA.STATISTICS\n",
    "        WHERE index_schema = '{MYSQL_DB}'\n",
    "        AND TABLE_NAME = '{TABLE}'\n",
    "        AND INDEX_NAME IN('{FK_PROD_PRC_PROD}')\n",
    "        \"\"\"\n",
    "    )).mappings().fetchone()\n",
    "    if qry:\n",
    "        session.execute(text(\n",
    "            f\"\"\"\n",
    "            ALTER TABLE {MYSQL_DB}.{qry[\"TABLE_NAME\"]}\n",
    "                DROP FOREIGN KEY {qry[\"INDEX_NAME\"]}\n",
    "                , DROP INDEX {qry[\"INDEX_NAME\"]}\n",
    "            \"\"\"\n",
    "        ))\n",
    "\n",
    "    session.execute(text(\n",
    "        f\"\"\"\n",
    "        ALTER TABLE {MYSQL_DB}.{TABLE}\n",
    "            ADD CONSTRAINT {FK_PROD_PRC_PROD} FOREIGN KEY(product_id) REFERENCES {MYSQL_DB}.tbl_product(product_id)\n",
    "        \"\"\"\n",
    "    ))\n",
    "\n",
    "    session.commit()\n",
    "    session.close()\n",
    "    print(\"Successfully related\")\n",
    "except Exception as e:\n",
    "    print(f\"\\nError msg : {e}\\n\")\n",
    "    session.rollback()\n",
    "    session.close()"
   ]
  },
  {
   "cell_type": "markdown",
   "metadata": {},
   "source": [
    "### Sales Order\n"
   ]
  },
  {
   "cell_type": "code",
   "execution_count": 10,
   "metadata": {},
   "outputs": [
    {
     "name": "stdout",
     "output_type": "stream",
     "text": [
      "Successfully related\n"
     ]
    }
   ],
   "source": [
    "TABLE = \"tbl_sales_order\"\n",
    "FK_SAL_ODR_CUST = \"fk_sal_ord_cust\"\n",
    "FK_SAL_ODR_SHIP = \"fk_sal_ord_ship\"\n",
    "try:\n",
    "    qry = session.execute(text(\n",
    "        f\"\"\"\n",
    "        SELECT TABLE_NAME, INDEX_NAME\n",
    "        FROM INFORMATION_SCHEMA.STATISTICS\n",
    "        WHERE index_schema = '{MYSQL_DB}'\n",
    "        AND TABLE_NAME = '{TABLE}'\n",
    "        AND INDEX_NAME IN('{FK_SAL_ODR_CUST}', '{FK_SAL_ODR_SHIP}')\n",
    "        \"\"\"\n",
    "    )).mappings().fetchall()\n",
    "    if len(qry) > 0:\n",
    "        for i in qry:\n",
    "            session.execute(text(\n",
    "                f\"\"\"\n",
    "                ALTER TABLE {MYSQL_DB}.{i['TABLE_NAME']}\n",
    "                    DROP FOREIGN KEY {i[\"INDEX_NAME\"]}\n",
    "                    , DROP INDEX {i[\"INDEX_NAME\"]}\n",
    "                \"\"\"\n",
    "            ))\n",
    "\n",
    "    session.execute(text(\n",
    "        f\"\"\"\n",
    "        ALTER TABLE {MYSQL_DB}.{TABLE}\n",
    "            ADD CONSTRAINT {FK_SAL_ODR_CUST} FOREIGN KEY(customer_id) REFERENCES {MYSQL_DB}.tbl_customer(customer_id)\n",
    "            , ADD CONSTRAINT {FK_SAL_ODR_SHIP} FOREIGN KEY(ship_id) REFERENCES {MYSQL_DB}.tbl_ship(ship_id)\n",
    "        \"\"\"\n",
    "    ))\n",
    "\n",
    "    session.commit()\n",
    "    session.close()\n",
    "    print(\"Successfully related\")\n",
    "except Exception as e:\n",
    "    print(f\"\\nError msg : {e}\\n\")\n",
    "    session.rollback()\n",
    "    session.close()"
   ]
  },
  {
   "cell_type": "markdown",
   "metadata": {},
   "source": [
    "### Sales Order Detail\n"
   ]
  },
  {
   "cell_type": "code",
   "execution_count": 11,
   "metadata": {},
   "outputs": [
    {
     "name": "stdout",
     "output_type": "stream",
     "text": [
      "Successfully related\n"
     ]
    }
   ],
   "source": [
    "TABLE = \"tbl_sales_order_detail\"\n",
    "FK_SAL_ORD_DET_SAL_ORD = \"fk_sal_ord_det_sal_ord\"\n",
    "FK_SAL_ORD_DET_PROD = \"fk_sal_ord_det_prod\"\n",
    "try:\n",
    "    qry = session.execute(text(\n",
    "        f\"\"\"\n",
    "        SELECT TABLE_NAME, INDEX_NAME\n",
    "        FROM INFORMATION_SCHEMA.STATISTICS\n",
    "        WHERE index_schema = '{MYSQL_DB}'\n",
    "        AND TABLE_NAME = '{TABLE}'\n",
    "        AND INDEX_NAME IN('{FK_SAL_ORD_DET_SAL_ORD}', '{FK_SAL_ORD_DET_PROD}')\n",
    "        \"\"\"\n",
    "    )).mappings().fetchall()\n",
    "    if len(qry) > 0:\n",
    "        for i in qry:\n",
    "            session.execute(text(\n",
    "                f\"\"\"\n",
    "                ALTER TABLE {MYSQL_DB}.{i[\"TABLE_NAME\"]}\n",
    "                    DROP FOREIGN KEY {i[\"INDEX_NAME\"]}\n",
    "                    , DROP INDEX {i[\"INDEX_NAME\"]}\n",
    "                \"\"\"\n",
    "            ))\n",
    "\n",
    "    session.execute(text(\n",
    "        f\"\"\"\n",
    "        ALTER TABLE {MYSQL_DB}.{TABLE}\n",
    "            ADD CONSTRAINT {FK_SAL_ORD_DET_SAL_ORD} FOREIGN KEY(sales_order_id) REFERENCES {MYSQL_DB}.tbl_sales_order(sales_order_id)\n",
    "            , ADD CONSTRAINT {FK_SAL_ORD_DET_PROD} FOREIGN KEY(product_id) REFERENCES {MYSQL_DB}.tbl_product(product_id)\n",
    "        \"\"\"\n",
    "    ))\n",
    "\n",
    "    session.commit()\n",
    "    session.close()\n",
    "    print(\"Successfully related\")\n",
    "except Exception as e:\n",
    "    print(f\"\\nError msg : {e}\\n\")\n",
    "    session.rollback()\n",
    "    session.close()"
   ]
  }
 ],
 "metadata": {
  "kernelspec": {
   "display_name": ".venv",
   "language": "python",
   "name": "python3"
  },
  "language_info": {
   "codemirror_mode": {
    "name": "ipython",
    "version": 3
   },
   "file_extension": ".py",
   "mimetype": "text/x-python",
   "name": "python",
   "nbconvert_exporter": "python",
   "pygments_lexer": "ipython3",
   "version": "3.12.8"
  }
 },
 "nbformat": 4,
 "nbformat_minor": 2
}
