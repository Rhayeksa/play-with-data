{
 "cells": [
  {
   "cell_type": "markdown",
   "metadata": {},
   "source": [
    "# Product Information\n"
   ]
  },
  {
   "cell_type": "code",
   "execution_count": 1,
   "metadata": {},
   "outputs": [
    {
     "name": "stderr",
     "output_type": "stream",
     "text": [
      "24/12/22 08:23:44 WARN Utils: Your hostname, rhayeksa-Infinix-INBook-X1 resolves to a loopback address: 127.0.1.1; using 192.168.0.108 instead (on interface wlo1)\n",
      "24/12/22 08:23:44 WARN Utils: Set SPARK_LOCAL_IP if you need to bind to another address\n",
      "24/12/22 08:23:45 WARN NativeCodeLoader: Unable to load native-hadoop library for your platform... using builtin-java classes where applicable\n",
      "Setting default log level to \"WARN\".\n",
      "To adjust logging level use sc.setLogLevel(newLevel). For SparkR, use setLogLevel(newLevel).\n",
      "24/12/22 08:23:47 WARN Utils: Service 'SparkUI' could not bind on port 4040. Attempting port 4041.\n",
      "24/12/22 08:23:47 WARN Utils: Service 'SparkUI' could not bind on port 4041. Attempting port 4042.\n",
      "24/12/22 08:23:47 WARN Utils: Service 'SparkUI' could not bind on port 4042. Attempting port 4043.\n"
     ]
    }
   ],
   "source": [
    "import os\n",
    "\n",
    "from dotenv import load_dotenv\n",
    "from pyspark.sql import SparkSession\n",
    "\n",
    "# Environment Variables\n",
    "load_dotenv(dotenv_path=\"../../../../.env\")\n",
    "MYSQL_DB = os.getenv(\"MYSQL_DB\")\n",
    "MYSQL_DB = os.getenv(\"MYSQL_DB\")\n",
    "MYSQL_DB_USERNAME = os.getenv(\"MYSQL_DB_USERNAME\")\n",
    "MYSQL_DB_PASSWORD = os.getenv(\"MYSQL_DB_PASSWORD\")\n",
    "MYSQL_DB_HOST = os.getenv(\"MYSQL_DB_HOST\")\n",
    "MYSQL_DB_PORT = os.getenv(\"MYSQL_DB_PORT\")\n",
    "\n",
    "# Spark Session\n",
    "spark = SparkSession.Builder() \\\n",
    "    .appName(\"Play With Data\") \\\n",
    "    .master(\"local[1]\") \\\n",
    "    .config(\"spark.jars\", \"../../../../library/mysql-connector-j-8.1.0.jar\") \\\n",
    "    .getOrCreate()\n",
    "\n",
    "# Dataframe\n",
    "df_product = spark.read.jdbc(\n",
    "    url=f\"jdbc:mysql://{MYSQL_DB_HOST}:{MYSQL_DB_PORT}/{MYSQL_DB}\",\n",
    "    table=\"tbl_product\",\n",
    "    properties={\n",
    "        \"user\": f\"{MYSQL_DB_USERNAME}\",\n",
    "        \"password\": f\"{MYSQL_DB_PASSWORD}\",\n",
    "        \"driver\": \"com.mysql.cj.jdbc.Driver\",\n",
    "    }\n",
    ")"
   ]
  },
  {
   "cell_type": "code",
   "execution_count": 4,
   "metadata": {},
   "outputs": [
    {
     "name": "stdout",
     "output_type": "stream",
     "text": [
      "+---------------+--------------------+---------+------------+\n",
      "|     product_id|                name| category|sub_category|\n",
      "+---------------+--------------------+---------+------------+\n",
      "|FUR-BO-10000112|Bush Birmingham C...|Furniture|   Bookcases|\n",
      "|FUR-BO-10000330|Sauder Camden Cou...|Furniture|   Bookcases|\n",
      "|FUR-BO-10000362|Sauder Inglewood ...|Furniture|   Bookcases|\n",
      "|FUR-BO-10000468|O'Sullivan 2-Shel...|Furniture|   Bookcases|\n",
      "|FUR-BO-10000711|Hon Metal Bookcas...|Furniture|   Bookcases|\n",
      "|FUR-BO-10000780|O'Sullivan Planta...|Furniture|   Bookcases|\n",
      "|FUR-BO-10001337|O'Sullivan Living...|Furniture|   Bookcases|\n",
      "|FUR-BO-10001519|O'Sullivan 3-Shel...|Furniture|   Bookcases|\n",
      "|FUR-BO-10001567|Bush Westfield Co...|Furniture|   Bookcases|\n",
      "|FUR-BO-10001601|Sauder Mission Li...|Furniture|   Bookcases|\n",
      "|FUR-BO-10001608|Hon Metal Bookcas...|Furniture|   Bookcases|\n",
      "|FUR-BO-10001619|O'Sullivan Cherry...|Furniture|   Bookcases|\n",
      "|FUR-BO-10001798|Bush Somerset Col...|Furniture|   Bookcases|\n",
      "|FUR-BO-10001811|Atlantic Metals M...|Furniture|   Bookcases|\n",
      "|FUR-BO-10001918|Sauder Forest Hil...|Furniture|   Bookcases|\n",
      "|FUR-BO-10001972|O'Sullivan 4-Shel...|Furniture|   Bookcases|\n",
      "|FUR-BO-10002202|Atlantic Metals M...|Furniture|   Bookcases|\n",
      "|FUR-BO-10002206|Bush Saratoga Col...|Furniture|   Bookcases|\n",
      "|FUR-BO-10002213|DMI Eclipse Execu...|Furniture|   Bookcases|\n",
      "|FUR-BO-10002214|Sauder Forest Hil...|Furniture|   Bookcases|\n",
      "+---------------+--------------------+---------+------------+\n",
      "only showing top 20 rows\n",
      "\n"
     ]
    }
   ],
   "source": [
    "df_product.show()"
   ]
  },
  {
   "cell_type": "code",
   "execution_count": 7,
   "metadata": {},
   "outputs": [
    {
     "name": "stdout",
     "output_type": "stream",
     "text": [
      "+----------+----+--------+------------+\n",
      "|product_id|name|category|sub_category|\n",
      "+----------+----+--------+------------+\n",
      "+----------+----+--------+------------+\n",
      "\n"
     ]
    }
   ],
   "source": [
    "df_product \\\n",
    "    .where(df_product[\"Product_ID\"] == \"TEC-AC-10004659\")\\\n",
    "    .show()"
   ]
  }
 ],
 "metadata": {
  "kernelspec": {
   "display_name": ".venv",
   "language": "python",
   "name": "python3"
  },
  "language_info": {
   "codemirror_mode": {
    "name": "ipython",
    "version": 3
   },
   "file_extension": ".py",
   "mimetype": "text/x-python",
   "name": "python",
   "nbconvert_exporter": "python",
   "pygments_lexer": "ipython3",
   "version": "3.12.8"
  }
 },
 "nbformat": 4,
 "nbformat_minor": 2
}
