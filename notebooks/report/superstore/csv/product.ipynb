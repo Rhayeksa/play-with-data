{
 "cells": [
  {
   "cell_type": "markdown",
   "metadata": {},
   "source": [
    "# Product Information\n"
   ]
  },
  {
   "cell_type": "code",
   "execution_count": 1,
   "metadata": {},
   "outputs": [
    {
     "name": "stderr",
     "output_type": "stream",
     "text": [
      "24/12/22 08:15:04 WARN Utils: Your hostname, rhayeksa-Infinix-INBook-X1 resolves to a loopback address: 127.0.1.1; using 192.168.0.108 instead (on interface wlo1)\n",
      "24/12/22 08:15:04 WARN Utils: Set SPARK_LOCAL_IP if you need to bind to another address\n",
      "Setting default log level to \"WARN\".\n",
      "To adjust logging level use sc.setLogLevel(newLevel). For SparkR, use setLogLevel(newLevel).\n",
      "24/12/22 08:15:11 WARN NativeCodeLoader: Unable to load native-hadoop library for your platform... using builtin-java classes where applicable\n",
      "24/12/22 08:15:12 WARN Utils: Service 'SparkUI' could not bind on port 4040. Attempting port 4041.\n",
      "24/12/22 08:15:12 WARN Utils: Service 'SparkUI' could not bind on port 4041. Attempting port 4042.\n"
     ]
    }
   ],
   "source": [
    "from pyspark.sql import SparkSession\n",
    "\n",
    "# Spark Session\n",
    "spark = SparkSession.Builder() \\\n",
    "    .appName(\"Play With Data\") \\\n",
    "    .master(\"local[1]\") \\\n",
    "    .getOrCreate()\n",
    "\n",
    "# Dataframe\n",
    "df = spark.read.csv(\n",
    "    path=\"../../../../data/raw/sample_superstore.csv\",\n",
    "    header=True,\n",
    "    sep=\",\",\n",
    "    escape='\"'\n",
    ")\n",
    "df = df.where(\n",
    "    df[\"Product ID\"] != \"TEC-AC-10004659\"\n",
    ")\n",
    "df.createOrReplaceTempView(\"dataframe\")"
   ]
  },
  {
   "cell_type": "code",
   "execution_count": 2,
   "metadata": {},
   "outputs": [
    {
     "name": "stdout",
     "output_type": "stream",
     "text": [
      "+------+--------------+----------+----------+--------------+-----------+--------------------+-----------+-------------+-------------+--------------+-----------+-------+---------------+---------------+------------+--------------------+---------+--------+--------+----------+\n",
      "|Row ID|      Order ID|Order Date| Ship Date|     Ship Mode|Customer ID|       Customer Name|    Segment|      Country|         City|         State|Postal Code| Region|     Product ID|       Category|Sub-Category|        Product Name|    Sales|Quantity|Discount|    Profit|\n",
      "+------+--------------+----------+----------+--------------+-----------+--------------------+-----------+-------------+-------------+--------------+-----------+-------+---------------+---------------+------------+--------------------+---------+--------+--------+----------+\n",
      "|  2698|CA-2014-145317| 3/18/2014| 3/23/2014|Standard Class|   SM-20320|         Sean Miller|Home Office|United States| Jacksonville|       Florida|      32216|  South|TEC-MA-10002412|     Technology|    Machines|Cisco TelePresenc...| 22638.48|       6|     0.5|-1811.0784|\n",
      "|  6827|CA-2016-118689| 10/2/2016| 10/9/2016|Standard Class|   TC-20980|        Tamara Chand|  Corporate|United States|    Lafayette|       Indiana|      47905|Central|TEC-CO-10004722|     Technology|     Copiers|Canon imageCLASS ...| 17499.95|       5|       0|  8399.976|\n",
      "|  8154|CA-2017-140151| 3/23/2017| 3/25/2017|   First Class|   RB-19360|        Raymond Buch|   Consumer|United States|      Seattle|    Washington|      98115|   West|TEC-CO-10004722|     Technology|     Copiers|Canon imageCLASS ...| 13999.96|       4|       0| 6719.9808|\n",
      "|  2624|CA-2017-127180|10/22/2017|10/24/2017|   First Class|   TA-21385|        Tom Ashbrook|Home Office|United States|New York City|      New York|      10024|   East|TEC-CO-10004722|     Technology|     Copiers|Canon imageCLASS ...|11199.968|       4|     0.2| 3919.9888|\n",
      "|  4191|CA-2017-166709|11/17/2017|11/22/2017|Standard Class|   HL-15040|        Hunter Lopez|   Consumer|United States|       Newark|      Delaware|      19711|   East|TEC-CO-10004722|     Technology|     Copiers|Canon imageCLASS ...| 10499.97|       3|       0| 5039.9856|\n",
      "|  9040|CA-2016-117121|12/17/2016|12/21/2016|Standard Class|   AB-10105|       Adrian Barton|   Consumer|United States|      Detroit|      Michigan|      48205|Central|OFF-BI-10000545|Office Supplies|     Binders|GBC Ibimaster 500...|  9892.74|      13|       0|   4946.37|\n",
      "|  4099|CA-2014-116904| 9/23/2014| 9/28/2014|Standard Class|   SC-20095|        Sanjit Chand|   Consumer|United States|  Minneapolis|     Minnesota|      55407|Central|OFF-BI-10001120|Office Supplies|     Binders|Ibico EPK-21 Elec...|  9449.95|       5|       0| 4630.4755|\n",
      "|  4278|US-2016-107440| 4/16/2016| 4/20/2016|Standard Class|   BS-11365|        Bill Shonely|  Corporate|United States|     Lakewood|    New Jersey|       8701|   East|TEC-MA-10001047|     Technology|    Machines|3D Systems Cube P...|  9099.93|       7|       0| 2365.9818|\n",
      "|  8489|CA-2016-158841|  2/2/2016|  2/4/2016|  Second Class|   SE-20110|        Sanjit Engle|   Consumer|United States|    Arlington|      Virginia|      22204|  South|TEC-MA-10001127|     Technology|    Machines|HP Designjet T520...|  8749.95|       5|       0|  2799.984|\n",
      "|  6426|CA-2016-143714| 5/23/2016| 5/27/2016|Standard Class|   CC-12370|  Christopher Conant|   Consumer|United States| Philadelphia|  Pennsylvania|      19120|   East|TEC-CO-10004722|     Technology|     Copiers|Canon imageCLASS ...| 8399.976|       4|     0.4| 1119.9968|\n",
      "|  2506|CA-2014-143917| 7/25/2014| 7/27/2014|  Second Class|   KL-16645|        Ken Lonsdale|   Consumer|United States|San Francisco|    California|      94122|   West|OFF-SU-10000151|Office Supplies|    Supplies|High Speed Automa...|  8187.65|       5|       0|   327.506|\n",
      "|   166|CA-2014-139892|  9/8/2014| 9/12/2014|Standard Class|   BM-11140|        Becky Martin|   Consumer|United States|  San Antonio|         Texas|      78207|Central|TEC-MA-10000822|     Technology|    Machines|Lexmark MX611dhe ...| 8159.952|       8|     0.4| -1359.992|\n",
      "|   684|US-2017-168116| 11/4/2017| 11/4/2017|      Same Day|   GT-14635|      Grant Thornton|  Corporate|United States|   Burlington|North Carolina|      27217|  South|TEC-MA-10004125|     Technology|    Machines|Cubify CubeX 3D P...|  7999.98|       4|     0.5|-3839.9904|\n",
      "|  6627|CA-2014-145541|12/14/2014|12/21/2014|Standard Class|   TB-21400|    Tom Boeckenhauer|   Consumer|United States|New York City|      New York|      10024|   East|TEC-MA-10001127|     Technology|    Machines|HP Designjet T520...|  6999.96|       4|       0| 2239.9872|\n",
      "|   510|CA-2015-145352| 3/16/2015| 3/22/2015|Standard Class|   CM-12385|Christopher Martinez|   Consumer|United States|      Atlanta|       Georgia|      30318|  South|OFF-BI-10003527|Office Supplies|     Binders|Fellowes PB500 El...|  6354.95|       5|       0|  3177.475|\n",
      "|  6521|CA-2017-138289| 1/16/2017| 1/18/2017|  Second Class|   AR-10540|         Andy Reiter|   Consumer|United States|      Jackson|      Michigan|      49201|Central|OFF-BI-10004995|Office Supplies|     Binders|GBC DocuBind P400...|  5443.96|       4|       0| 2504.2216|\n",
      "|  7667|US-2016-140158| 10/4/2016| 10/8/2016|Standard Class|   DR-12940|       Daniel Raglin|Home Office|United States|   Providence|  Rhode Island|       2908|   East|TEC-CO-10001449|     Technology|     Copiers|Hewlett Packard L...|  5399.91|       9|       0| 2591.9568|\n",
      "|  6341|CA-2017-143112| 10/5/2017| 10/9/2017|Standard Class|   TS-21370|        Todd Sumrall|  Corporate|United States|New York City|      New York|      10035|   East|TEC-MA-10001047|     Technology|    Machines|3D Systems Cube P...|  5199.96|       4|       0| 1351.9896|\n",
      "|  8859|CA-2017-135909|10/13/2017|10/20/2017|Standard Class|   JW-15220|           Jane Waco|  Corporate|United States|   Sacramento|    California|      95823|   West|OFF-BI-10003527|Office Supplies|     Binders|Fellowes PB500 El...|  5083.96|       5|     0.2|  1906.485|\n",
      "|  5885|CA-2016-136301| 3/13/2016| 3/15/2016|  Second Class|   EH-13765|        Edward Hooks|  Corporate|United States|San Francisco|    California|      94109|   West|OFF-SU-10000151|Office Supplies|    Supplies|High Speed Automa...|  4912.59|       3|       0|  196.5036|\n",
      "+------+--------------+----------+----------+--------------+-----------+--------------------+-----------+-------------+-------------+--------------+-----------+-------+---------------+---------------+------------+--------------------+---------+--------+--------+----------+\n",
      "only showing top 20 rows\n",
      "\n"
     ]
    }
   ],
   "source": [
    "spark.sql(\n",
    "    \"\"\"\n",
    "    SELECT *\n",
    "    FROM dataframe\n",
    "    -- WHERE `product id` = 'TEC-AC-10004659'\n",
    "    \"\"\"\n",
    ").show()"
   ]
  }
 ],
 "metadata": {
  "kernelspec": {
   "display_name": ".venv",
   "language": "python",
   "name": "python3"
  },
  "language_info": {
   "codemirror_mode": {
    "name": "ipython",
    "version": 3
   },
   "file_extension": ".py",
   "mimetype": "text/x-python",
   "name": "python",
   "nbconvert_exporter": "python",
   "pygments_lexer": "ipython3",
   "version": "3.12.8"
  }
 },
 "nbformat": 4,
 "nbformat_minor": 2
}
